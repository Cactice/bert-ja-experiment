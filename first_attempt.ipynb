{
  "nbformat": 4,
  "nbformat_minor": 0,
  "metadata": {
    "colab": {
      "name": "first_attempt.ipynb",
      "provenance": [],
      "authorship_tag": "ABX9TyPtCfjopglxs0uKY1sWYON7",
      "include_colab_link": true
    },
    "kernelspec": {
      "name": "python3",
      "display_name": "Python 3"
    }
  },
  "cells": [
    {
      "cell_type": "markdown",
      "metadata": {
        "id": "view-in-github",
        "colab_type": "text"
      },
      "source": [
        "<a href=\"https://colab.research.google.com/github/Cactice/bert-ja-experiment/blob/master/first_attempt.ipynb\" target=\"_parent\"><img src=\"https://colab.research.google.com/assets/colab-badge.svg\" alt=\"Open In Colab\"/></a>"
      ]
    },
    {
      "cell_type": "code",
      "metadata": {
        "id": "5LGe-hWdgmjH",
        "colab_type": "code",
        "colab": {
          "base_uri": "https://localhost:8080/",
          "height": 374
        },
        "outputId": "bfc55c39-d9ac-4ad0-bf29-4c78423e766e"
      },
      "source": [
        "!git clone --recurse-submodules https://github.com/yoheikikuta/bert-japanese"
      ],
      "execution_count": 1,
      "outputs": [
        {
          "output_type": "stream",
          "text": [
            "Cloning into 'bert-japanese'...\n",
            "remote: Enumerating objects: 4, done.\u001b[K\n",
            "remote: Counting objects:  25% (1/4)\u001b[K\rremote: Counting objects:  50% (2/4)\u001b[K\rremote: Counting objects:  75% (3/4)\u001b[K\rremote: Counting objects: 100% (4/4)\u001b[K\rremote: Counting objects: 100% (4/4), done.\u001b[K\n",
            "remote: Compressing objects:  25% (1/4)\u001b[K\rremote: Compressing objects:  50% (2/4)\u001b[K\rremote: Compressing objects:  75% (3/4)\u001b[K\rremote: Compressing objects: 100% (4/4)\u001b[K\rremote: Compressing objects: 100% (4/4), done.\u001b[K\n",
            "Receiving objects:   0% (1/164)   \rReceiving objects:   1% (2/164)   \rReceiving objects:   2% (4/164)   \rReceiving objects:   3% (5/164)   \rReceiving objects:   4% (7/164)   \rReceiving objects:   5% (9/164)   \rReceiving objects:   6% (10/164)   \rReceiving objects:   7% (12/164)   \rReceiving objects:   8% (14/164)   \rReceiving objects:   9% (15/164)   \rReceiving objects:  10% (17/164)   \rReceiving objects:  11% (19/164)   \rReceiving objects:  12% (20/164)   \rReceiving objects:  13% (22/164)   \rReceiving objects:  14% (23/164)   \rReceiving objects:  15% (25/164)   \rReceiving objects:  16% (27/164)   \rReceiving objects:  17% (28/164)   \rReceiving objects:  18% (30/164)   \rReceiving objects:  19% (32/164)   \rReceiving objects:  20% (33/164)   \rReceiving objects:  21% (35/164)   \rReceiving objects:  22% (37/164)   \rReceiving objects:  23% (38/164)   \rReceiving objects:  24% (40/164)   \rReceiving objects:  25% (41/164)   \rReceiving objects:  26% (43/164)   \rReceiving objects:  27% (45/164)   \rReceiving objects:  28% (46/164)   \rReceiving objects:  29% (48/164)   \rReceiving objects:  30% (50/164)   \rReceiving objects:  31% (51/164)   \rReceiving objects:  32% (53/164)   \rReceiving objects:  33% (55/164)   \rReceiving objects:  34% (56/164)   \rReceiving objects:  35% (58/164)   \rReceiving objects:  36% (60/164)   \rremote: Total 164 (delta 0), reused 2 (delta 0), pack-reused 160\u001b[K\n",
            "Receiving objects:  37% (61/164)   \rReceiving objects:  38% (63/164)   \rReceiving objects:  39% (64/164)   \rReceiving objects:  40% (66/164)   \rReceiving objects:  41% (68/164)   \rReceiving objects:  42% (69/164)   \rReceiving objects:  43% (71/164)   \rReceiving objects:  44% (73/164)   \rReceiving objects:  45% (74/164)   \rReceiving objects:  46% (76/164)   \rReceiving objects:  47% (78/164)   \rReceiving objects:  48% (79/164)   \rReceiving objects:  49% (81/164)   \rReceiving objects:  50% (82/164)   \rReceiving objects:  51% (84/164)   \rReceiving objects:  52% (86/164)   \rReceiving objects:  53% (87/164)   \rReceiving objects:  54% (89/164)   \rReceiving objects:  55% (91/164)   \rReceiving objects:  56% (92/164)   \rReceiving objects:  57% (94/164)   \rReceiving objects:  58% (96/164)   \rReceiving objects:  59% (97/164)   \rReceiving objects:  60% (99/164)   \rReceiving objects:  61% (101/164)   \rReceiving objects:  62% (102/164)   \rReceiving objects:  63% (104/164)   \rReceiving objects:  64% (105/164)   \rReceiving objects:  65% (107/164)   \rReceiving objects:  66% (109/164)   \rReceiving objects:  67% (110/164)   \rReceiving objects:  68% (112/164)   \rReceiving objects:  69% (114/164)   \rReceiving objects:  70% (115/164)   \rReceiving objects:  71% (117/164)   \rReceiving objects:  72% (119/164)   \rReceiving objects:  73% (120/164)   \rReceiving objects:  74% (122/164)   \rReceiving objects:  75% (123/164)   \rReceiving objects:  76% (125/164)   \rReceiving objects:  77% (127/164)   \rReceiving objects:  78% (128/164)   \rReceiving objects:  79% (130/164)   \rReceiving objects:  80% (132/164)   \rReceiving objects:  81% (133/164)   \rReceiving objects:  82% (135/164)   \rReceiving objects:  83% (137/164)   \rReceiving objects:  84% (138/164)   \rReceiving objects:  85% (140/164)   \rReceiving objects:  86% (142/164)   \rReceiving objects:  87% (143/164)   \rReceiving objects:  88% (145/164)   \rReceiving objects:  89% (146/164)   \rReceiving objects:  90% (148/164)   \rReceiving objects:  91% (150/164)   \rReceiving objects:  92% (151/164)   \rReceiving objects:  93% (153/164)   \rReceiving objects:  94% (155/164)   \rReceiving objects:  95% (156/164)   \rReceiving objects:  96% (158/164)   \rReceiving objects:  97% (160/164)   \rReceiving objects:  98% (161/164)   \rReceiving objects:  99% (163/164)   \rReceiving objects: 100% (164/164)   \rReceiving objects: 100% (164/164), 218.44 KiB | 2.87 MiB/s, done.\n",
            "Resolving deltas:   0% (0/87)   \rResolving deltas:   2% (2/87)   \rResolving deltas:   3% (3/87)   \rResolving deltas:   4% (4/87)   \rResolving deltas:   9% (8/87)   \rResolving deltas:  11% (10/87)   \rResolving deltas:  14% (13/87)   \rResolving deltas:  19% (17/87)   \rResolving deltas:  20% (18/87)   \rResolving deltas:  24% (21/87)   \rResolving deltas:  25% (22/87)   \rResolving deltas:  33% (29/87)   \rResolving deltas:  50% (44/87)   \rResolving deltas:  55% (48/87)   \rResolving deltas:  63% (55/87)   \rResolving deltas: 100% (87/87)   \rResolving deltas: 100% (87/87), done.\n",
            "Submodule 'bert' (https://github.com/google-research/bert.git) registered for path 'bert'\n",
            "Submodule 'wikiextractor' (https://github.com/attardi/wikiextractor.git) registered for path 'wikiextractor'\n",
            "Cloning into '/content/bert-japanese/bert'...\n",
            "remote: Enumerating objects: 340, done.        \n",
            "remote: Total 340 (delta 0), reused 0 (delta 0), pack-reused 340        \n",
            "Receiving objects: 100% (340/340), 310.70 KiB | 4.03 MiB/s, done.\n",
            "Resolving deltas: 100% (186/186), done.\n",
            "Cloning into '/content/bert-japanese/wikiextractor'...\n",
            "remote: Enumerating objects: 613, done.        \n",
            "remote: Total 613 (delta 0), reused 0 (delta 0), pack-reused 613        \n",
            "Receiving objects: 100% (613/613), 1.24 MiB | 8.42 MiB/s, done.\n",
            "Resolving deltas: 100% (352/352), done.\n",
            "Submodule path 'bert': checked out '88a817c37f788702a363ff935fd173b6dc6ac0d6'\n",
            "Submodule path 'wikiextractor': checked out '3162bb6c3c9ebd2d15be507aa11d6fa818a454ac'\n"
          ],
          "name": "stdout"
        }
      ]
    },
    {
      "cell_type": "code",
      "metadata": {
        "id": "2gqGqvahh9uS",
        "colab_type": "code",
        "colab": {
          "base_uri": "https://localhost:8080/",
          "height": 153
        },
        "outputId": "f6dad68f-1652-408a-867b-5a8086f1d330"
      },
      "source": [
        "pip install gdown"
      ],
      "execution_count": 2,
      "outputs": [
        {
          "output_type": "stream",
          "text": [
            "Requirement already satisfied: gdown in /usr/local/lib/python3.6/dist-packages (3.6.4)\n",
            "Requirement already satisfied: six in /usr/local/lib/python3.6/dist-packages (from gdown) (1.12.0)\n",
            "Requirement already satisfied: tqdm in /usr/local/lib/python3.6/dist-packages (from gdown) (4.41.1)\n",
            "Requirement already satisfied: requests in /usr/local/lib/python3.6/dist-packages (from gdown) (2.23.0)\n",
            "Requirement already satisfied: urllib3!=1.25.0,!=1.25.1,<1.26,>=1.21.1 in /usr/local/lib/python3.6/dist-packages (from requests->gdown) (1.24.3)\n",
            "Requirement already satisfied: idna<3,>=2.5 in /usr/local/lib/python3.6/dist-packages (from requests->gdown) (2.9)\n",
            "Requirement already satisfied: certifi>=2017.4.17 in /usr/local/lib/python3.6/dist-packages (from requests->gdown) (2020.4.5.1)\n",
            "Requirement already satisfied: chardet<4,>=3.0.2 in /usr/local/lib/python3.6/dist-packages (from requests->gdown) (3.0.4)\n"
          ],
          "name": "stdout"
        }
      ]
    },
    {
      "cell_type": "code",
      "metadata": {
        "id": "Du7IaUNWrpJj",
        "colab_type": "code",
        "colab": {
          "base_uri": "https://localhost:8080/",
          "height": 130
        },
        "outputId": "0c173730-bd75-4654-acd5-766e9f55986d"
      },
      "source": [
        "https://drive.google.com/file/d/11V3dT_xJUXsZRuDK1kXiXJRBSEHGl3In/view?usp=sharing\n",
        "https://drive.google.com/file/d/1Otwik7_nNnOWyqGCgwJciBSwqaABLpXS/view?usp=sharing\n",
        "https://drive.google.com/file/d/1F4b_u-5zzqabA6OfLxDkLh0lzqVIEZuN/view?usp=sharing\n",
        "https://drive.google.com/file/d/1LB00MDQJjb-xLmgBMhdQE3wKDOLjgum-/view?usp=sharing\n",
        "https://drive.google.com/file/d/1V9TIUn5wc-mB_wabYiz9ikvLsscONOKB/view?usp=sharing\n",
        "https://drive.google.com/file/d/1jjZmgSo8C9xMIos8cUMhqJfNbyyqR0MY/view?usp=sharing\n",
        "https://drive.google.com/file/d/1uzPpW38LcS4YS431GgdG0Hsj4gNgE5X1/view?usp=sharing"
      ],
      "execution_count": 7,
      "outputs": [
        {
          "output_type": "error",
          "ename": "SyntaxError",
          "evalue": "ignored",
          "traceback": [
            "\u001b[0;36m  File \u001b[0;32m\"<ipython-input-7-e36f00845707>\"\u001b[0;36m, line \u001b[0;32m1\u001b[0m\n\u001b[0;31m    https://drive.google.com/file/d/11V3dT_xJUXsZRuDK1kXiXJRBSEHGl3In/view?usp=sharing\u001b[0m\n\u001b[0m           ^\u001b[0m\n\u001b[0;31mSyntaxError\u001b[0m\u001b[0;31m:\u001b[0m invalid syntax\n"
          ]
        }
      ]
    },
    {
      "cell_type": "code",
      "metadata": {
        "id": "Ppv5l2wZsu-z",
        "colab_type": "code",
        "colab": {
          "base_uri": "https://localhost:8080/",
          "height": 165
        },
        "outputId": "a0ecd7e7-1c76-43d1-c959-63e024b82bb5"
      },
      "source": [
        "!gdown https://drive.google.com/uc?id=11V3dT_xJUXsZRuDK1kXiXJRBSEHGl3In\n",
        "!gdown https://drive.google.com/uc?id=1Otwik7_nNnOWyqGCgwJciBSwqaABLpXS\n",
        "!gdown https://drive.google.com/uc?id=1F4b_u-5zzqabA6OfLxDkLh0lzqVIEZuN\n",
        "!gdown https://drive.google.com/uc?id=1LB00MDQJjb-xLmgBMhdQE3wKDOLjgum-\n",
        "!gdown https://drive.google.com/uc?id=1V9TIUn5wc-mB_wabYiz9ikvLsscONOKB\n",
        "!gdown https://drive.google.com/uc?id=1jjZmgSo8C9xMIos8cUMhqJfNbyyqR0MY\n",
        "!gdown https://drive.google.com/uc?id=1uzPpW38LcS4YS431GgdG0Hsj4gNgE5X1"
      ],
      "execution_count": 0,
      "outputs": [
        {
          "output_type": "stream",
          "text": [
            "Downloading...\n",
            "From: https://drive.google.com/uc?id=11V3dT_xJUXsZRuDK1kXiXJRBSEHGl3In\n",
            "To: /content/graph.pbtxt\n",
            "11.0MB [00:00, 94.7MB/s]\n",
            "Downloading...\n",
            "From: https://drive.google.com/uc?id=1Otwik7_nNnOWyqGCgwJciBSwqaABLpXS\n",
            "To: /content/jawiki-20181220-pages-articles-multistream.xml.bz2\n",
            "2.55GB [00:28, 120MB/s]"
          ],
          "name": "stdout"
        }
      ]
    },
    {
      "cell_type": "code",
      "metadata": {
        "id": "QfE0MKSlswwV",
        "colab_type": "code",
        "colab": {}
      },
      "source": [
        "# find the share link of the file/folder on Google Drive\n",
        "file_share_link = \"https://drive.google.com/open?id=0B_URf9ZWjAW7SC11Xzc4R2d0N2c\"\n",
        "\n",
        "# extract the ID of the file\n",
        "file_id = file_share_link[file_share_link.find(\"=\") + 1:]\n",
        "\n",
        "# append the id to this REST command\n",
        "file_download_link = \"https://docs.google.com/uc?export=download&id=\" + file_id "
      ],
      "execution_count": 0,
      "outputs": []
    }
  ]
}