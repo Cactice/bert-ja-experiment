{
  "nbformat": 4,
  "nbformat_minor": 0,
  "metadata": {
    "colab": {
      "name": "data_processor",
      "provenance": [],
      "authorship_tag": "ABX9TyOo1Eq5stKvVtzuCwb2r9b9",
      "include_colab_link": true
    },
    "kernelspec": {
      "name": "python3",
      "display_name": "Python 3"
    }
  },
  "cells": [
    {
      "cell_type": "markdown",
      "metadata": {
        "id": "view-in-github",
        "colab_type": "text"
      },
      "source": [
        "<a href=\"https://colab.research.google.com/github/Cactice/bert-ja-experiment/blob/master/data_processor.ipynb\" target=\"_parent\"><img src=\"https://colab.research.google.com/assets/colab-badge.svg\" alt=\"Open In Colab\"/></a>"
      ]
    },
    {
      "cell_type": "code",
      "metadata": {
        "id": "Yknugu5Nhi5p",
        "colab_type": "code",
        "colab": {}
      },
      "source": [
        "import pandas\n",
        "import os"
      ],
      "execution_count": 11,
      "outputs": []
    },
    {
      "cell_type": "code",
      "metadata": {
        "id": "7hgImTSppohK",
        "colab_type": "code",
        "colab": {
          "base_uri": "https://localhost:8080/",
          "height": 122
        },
        "outputId": "bc30b9c9-4bf9-4856-e889-1c9ba3aeb8ef"
      },
      "source": [
        "from google.colab import drive\n",
        "drive.mount('/drive')\n",
        " # download from　http://nlp.ist.i.kyoto-u.ac.jp/kuntt/index.php　解析済みブログコーパス(UTF-8版)\n",
        " # unzip and copy corpus2/* content to KNBC/\n",
        "! cp -r /drive/My\\ Drive/KNBC /content"
      ],
      "execution_count": 2,
      "outputs": [
        {
          "output_type": "stream",
          "text": [
            "Go to this URL in a browser: https://accounts.google.com/o/oauth2/auth?client_id=947318989803-6bn6qk8qdgf4n4g3pfee6491hc0brc4i.apps.googleusercontent.com&redirect_uri=urn%3aietf%3awg%3aoauth%3a2.0%3aoob&response_type=code&scope=email%20https%3a%2f%2fwww.googleapis.com%2fauth%2fdocs.test%20https%3a%2f%2fwww.googleapis.com%2fauth%2fdrive%20https%3a%2f%2fwww.googleapis.com%2fauth%2fdrive.photos.readonly%20https%3a%2f%2fwww.googleapis.com%2fauth%2fpeopleapi.readonly\n",
            "\n",
            "Enter your authorization code:\n",
            "··········\n",
            "Mounted at /drive\n"
          ],
          "name": "stdout"
        }
      ]
    },
    {
      "cell_type": "code",
      "metadata": {
        "id": "ejZXI7WPptIG",
        "colab_type": "code",
        "colab": {}
      },
      "source": [
        "gourmet = pandas.read_csv('/content/KNBC/Gourmet.tsv', header=None, usecols=[1], delimiter='\\t')\n",
        "keitai = pandas.read_csv('/content/KNBC/Keitai.tsv', header=None, usecols=[1], delimiter='\\t')\n",
        "kyoto = pandas.read_csv('/content/KNBC/Kyoto.tsv', header=None, usecols=[1], delimiter='\\t')\n",
        "sports = pandas.read_csv('/content/KNBC/Sports.tsv', header=None, usecols=[1], delimiter='\\t')"
      ],
      "execution_count": 6,
      "outputs": []
    },
    {
      "cell_type": "code",
      "metadata": {
        "id": "h96xYPhktTXY",
        "colab_type": "code",
        "colab": {}
      },
      "source": [
        "gourmet['label'] = 'gourmet'\n",
        "keitai['label'] = 'keitai'\n",
        "kyoto['label'] = 'kyoto'\n",
        "sports['label'] = 'sports'"
      ],
      "execution_count": 7,
      "outputs": []
    },
    {
      "cell_type": "code",
      "metadata": {
        "id": "E2GXJ82ztO-e",
        "colab_type": "code",
        "colab": {}
      },
      "source": [
        "df = pandas.concat([gourmet,keitai,kyoto,sports])\n",
        "df = df.rename(columns={1: 'feature'})"
      ],
      "execution_count": 8,
      "outputs": []
    },
    {
      "cell_type": "code",
      "metadata": {
        "id": "DCU79XB6yjK3",
        "colab_type": "code",
        "colab": {}
      },
      "source": [
        "df = df.sample(frac=1)\n",
        "splitter = int(df.size * 0.7)\n",
        "\n",
        "train=df[:splitter]\n",
        "test=df[splitter:]"
      ],
      "execution_count": 9,
      "outputs": []
    },
    {
      "cell_type": "code",
      "metadata": {
        "id": "WWQga3QH1Ij6",
        "colab_type": "code",
        "colab": {}
      },
      "source": [
        "outdir = './out/test'\n",
        "if not os.path.exists(outdir):\n",
        "    os.makedirs(outdir)\n",
        "outdir = './out/train'\n",
        "if not os.path.exists(outdir):\n",
        "    os.makedirs(outdir)"
      ],
      "execution_count": 14,
      "outputs": []
    },
    {
      "cell_type": "code",
      "metadata": {
        "id": "TIgw4ucOzByY",
        "colab_type": "code",
        "colab": {}
      },
      "source": [
        "train.to_csv('/content/out/train/feature.csv', columns=['feature'], index=False)\n",
        "train.to_csv('/content/out/train/label.csv', columns=['label'], index=False)\n",
        "test.to_csv('/content/out/test/feature.csv', columns=['feature'], index=False)\n",
        "test.to_csv('/content/out/test/label.csv', columns=['label'], index=False)"
      ],
      "execution_count": 16,
      "outputs": []
    },
    {
      "cell_type": "code",
      "metadata": {
        "id": "pTN2g0zbhWsd",
        "colab_type": "code",
        "colab": {}
      },
      "source": [
        "! cp -r  /content/out /drive/My\\ Drive/KNBC/out \n"
      ],
      "execution_count": 17,
      "outputs": []
    },
    {
      "cell_type": "code",
      "metadata": {
        "id": "zcQJCiKgiNtU",
        "colab_type": "code",
        "colab": {}
      },
      "source": [
        ""
      ],
      "execution_count": null,
      "outputs": []
    }
  ]
}